{
  "cells": [
    {
      "cell_type": "markdown",
      "metadata": {},
      "source": [
        "# Centripetal Catmull-Rom curve in Beizer Curve form\n",
        "\n",
        "---\n",
        "\n",
        "We are going to derive equation 2\n in the [paper](http://www.cemyuksel.com/research/catmullrom_param/catmullrom.pdf).\n",
        "\n",
        "The Catmull-Rom cubic curve can indeed be created through successive interpolation (cf Figure 3 in the paper).\n",
        "The interpolation, parametrized in $t$, between points $x$ and $y$ can be viewed as follows:\n",
        "\n",
        "\\begin{equation}\n",
        "f(t, x, y, a, b)  = \\frac{b-t}{b-a}x + \\frac{t-a}{b-a}y \n",
        "\\end{equation}\n",
        "\n",
        "where $a$ and $b$ are constants with $a \\leq t \\leq b$ and $t = a$ gives $x$, $t=b$ gives $y$\n",
        "\n",
        "We observe the followings:\n",        
        "\n",
        "\\begin{equation}\n",
        "\\frac{\\partial f}{\\partial t} = \\frac{y-x}{b-a}, \\frac{\\partial f}{\\partial x} = \\frac{b-t}{b-a}, \\frac{\\partial f}{\\partial y} = \\frac{t-a}{b-a}\n",
        "\\end{equation}\n",
        "\n",
        "Rewrite $C_{12}, L_{012}, L_{123}, L_{01}, L_{12}, L_{23}$ (cf Figure 3 in the paper) as follows\n",
        "\n",
        "\\begin{equation}\n",
        "C_{12} = f(t, L_{012},L_{123}, t_{1}, t_{2}),\n",
        "L_{012} = f(t, L_{01},L_{12}, t_{0}, t_{2}),\n",
        "L_{123} = f(t, L_{12},L_{23}, t_{1}, t_{3}),\n",
        "L_{ij} = f(t, P_{i},P_{j}, t_{i}, t_{j})\n",
        "\\end{equation}\n",
        "\n",
        "Note that the curve $C_{12}$ is passing through $P_{i}$ with the parametrisation $t_{i}$ where $i=0,1,2,3$ and $t_{i} = \\sum_{i=0}^{3} d^{\\alpha}_{i}$\n",
        "\n",
        "\\begin{equation}\n",
        "x = \\frac{m}{\\Delta\\lambda}(\\lambda-\\lambda_0) \\quad \\text{and} \\quad y = n - \\frac{m}{\\Delta\\lambda}\\ln\\frac{\\tan(\\frac{\\pi}{4}+\\frac{\\phi}{2})}{\\tan(\\frac{\\pi}{4}+\\frac{\\phi_0}{2})},\n",
        "\\end{equation}"
      ]
    }
  ],
  "metadata": {
    "kernelspec": {
      "display_name": "Python 3",
      "language": "python",
      "name": "python3"
    },
    "language_info": {
      "codemirror_mode": {
        "name": "ipython",
        "version": 3
      },
      "file_extension": ".py",
      "mimetype": "text/x-python",
      "name": "python",
      "nbconvert_exporter": "python",
      "pygments_lexer": "ipython3",
      "version": "3.5.2"
    }
  },
  "nbformat": 4,
  "nbformat_minor": 0
}
