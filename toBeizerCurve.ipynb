{
  "cells": [
    {
      "cell_type": "markdown",
      "metadata": {},
      "source": [
        "# Centripetal Catmull-Rom curve in Beizer Curve form\n",
        "\n",
        "---\n",
        "\n",
        "We are going to derive equation 2\n in this [paper](http://www.cemyuksel.com/research/catmullrom_param/catmullrom.pdf).\n",
        "\n",
        "The Catmull-Rom cubic curve can indeed be created through successive interpolation (cf Figure 3 in the paper).\n",
        "The interpolation, parametrized in $t$, between points $x$ and $y$ can be viewed as follows:\n",
        "$$\n",
        "\\begin{equation*}\n",
        "f(t, x, y, a, b)  = \\frac{b-t}{b-a}x + \\frac{t-a}{b-a}y \n",
        "\\end{equation*}\n",
        "$$\n",
        "where $a$ and $b$ are constants with $a \\leq t \\leq b$ and $t = a$ gives $x$, $t=b$ gives $y$\n",
        "\n",
        "We observe the followings:\n",        
        "$$\n",
        "\\begin{align*}\n",
        "\\frac{\\partial f}{\\partial t} &= \\frac{y-x}{b-a} \\\\ \n",
        "\\frac{\\partial f}{\\partial x} &= \\frac{b-t}{b-a} \\\\ \n",
        "\\frac{\\partial f}{\\partial y} &= \\frac{t-a}{b-a}\n",
        "\\end{align*}\n",
        "$$\n",
        "By chain rule, we have\n",
        "$$\n",
        "\\begin{equation}\n",
        "\\frac{df(t,x(t),y(t),a,b)}{dt} = \\frac{\\partial f}{\\partial t} + \\frac{\\partial f}{\\partial x}\\frac{dx}{dt} + \\frac{\\partial f}{\\partial y}\\frac{dy}{dt}\n",
        "\\end{equation}\n",        
        "$$\n"
        "Rewrite $C_{12}, L_{012}, L_{123}, L_{01}, L_{12}, L_{23}$ (cf Figure 3 in the paper) as follows\n",
        "$$\n",
        "\\begin{align*}\n",
        "C_{12} &= f(t, L_{012},L_{123}, t_{1}, t_{2}) \\\\ \n",
        "L_{012} &= f(t, L_{01},L_{12}, t_{0}, t_{2}) \\\\ \n",
        "L_{123} &= f(t, L_{12},L_{23}, t_{1}, t_{3}) \\\\ \n",
        "L_{ij} &= f(t, P_{i},P_{j}, t_{i}, t_{j})\n",
        "\\end{align*}\n",
        "$$\n",
        "Note that the curve $C_{12}$ is passing through $P_{i}$ with parametrisation $t_{i}$ where $i=0,1,2,3$\n",
        "\n",
        "From the paper,  $t_{i+1} = ||P_{j}-P_{j-1}||^{\\alpha} + t_{i}$ with $t_{0} = 0$ and $0 \\leq \\alpha \\leq 1$\n",
        "$$\n",
        "\\begin{pmatrix}B_{0} \\\\ 3(B_{1} - B_{0}) \\\\ 3(B_{3} - B_{2})\\\\ B_{3} \\end{pmatrix} = \n",
        "\\begin{pmatrix}1 &&& \\\\ &d_{2}^{\\alpha}&& \\\\ && d_{2}^{\\alpha} & \\\\ &&&1 \\end{pmatrix} \n",
        "\\begin{pmatrix}1 &&& \\\\ &\\frac{1}{d_{2}^{\\alpha}+d_{1}^{\\alpha}}&& \\\\ &&\\frac{1}{d_{3}^{\\alpha}+d_{2}^{\\alpha}}& \\\\ &&&1 \\end{pmatrix} \n",
        "\\begin{pmatrix}1 &&&&& \\\\ &d_{2}^{\\alpha} &d_{1}^{\\alpha}&&&& \\\\ &&&d_{3}^{\\alpha}&d_{1}^{\\alpha}& \\\\ &&&&&1 \\end{pmatrix} \n",
        "\\begin{pmatrix}1 &&&&& \\\\ &\\frac{1}{d_{1}^{\\alpha}} &&&&& \\\\ &&\\frac{1}{d_{2}^{\\alpha}} &&&& \\\\ &&&\\frac{1}{d_{2}^{\\alpha}} &&& \\\\ &&&&\\frac{1}{d_{3}^{\\alpha}} && \\\\ &&&&&1 \\end{pmatrix} \n",
        "\\begin{pmatrix}&1&& \\\\ -1&1&& \\\\ &-1&1& \\\\ &-1&1& \\\\ &&-1&1 \\\\ &&1& \\end{pmatrix} \n",
        "\\begin{pmatrix}P_{0} \\\\ P_{1} \\\\ P_{2}\\\\ P_{3} \\end{pmatrix}\n",        
        "$$\n"
      ]
    }
  ],
  "metadata": {
    "kernelspec": {
      "display_name": "Python 3",
      "language": "python",
      "name": "python3"
    },
    "language_info": {
      "codemirror_mode": {
        "name": "ipython",
        "version": 3
      },
      "file_extension": ".py",
      "mimetype": "text/x-python",
      "name": "python",
      "nbconvert_exporter": "python",
      "pygments_lexer": "ipython3",
      "version": "3.5.2"
    }
  },
  "nbformat": 4,
  "nbformat_minor": 0
}
