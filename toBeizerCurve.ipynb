{
  "cells": [
    {
      "cell_type": "markdown",
      "metadata": {},
      "source": [
        "# Centripetal Catmull-Rom curve in Beizer Curve form\n",
        "\n",
        "---\n",
        "\n",
        "We are going to derive equation 2\n in the [paper](http://www.cemyuksel.com/research/catmullrom_param/catmullrom.pdf)",
        "\n",
        "The Catmull-Rom cubic curve can indeed be created through successive interpolation (cf Figure 3 in the paper). The interpolation between points $x$ and $y$ can be view as follows:",
        "\n",
        "\\begin{equation}\n",
        "f(t, x, y, a, b)  = \frac{b-t}{b-a}x + \frac{t-a}{b-a}y \n",
        "\\end{equation}\n",
        "\n",
        "\n",
        "1. All angles are in radian and we write $\\Delta \\lambda = \\lambda_1-\\lambda_0$\n",        
        "\n",
        "2. By $m=R\\Delta \\lambda$, we get $R=\\frac{m}{\\Delta\\lambda}$\n",
        "\n",
        "3. $y$ will be changed to $n-y$ in some applications\n",
        "\n",
        "Hence,\n",
        "\n",
        "\\begin{equation}\n",
        "x = \\frac{m}{\\Delta\\lambda}(\\lambda-\\lambda_0) \\quad \\text{and} \\quad y = n - \\frac{m}{\\Delta\\lambda}\\ln\\frac{\\tan(\\frac{\\pi}{4}+\\frac{\\phi}{2})}{\\tan(\\frac{\\pi}{4}+\\frac{\\phi_0}{2})},\n",
        "\\end{equation}"
      ]
    }
  ],
  "metadata": {
    "kernelspec": {
      "display_name": "Python 3",
      "language": "python",
      "name": "python3"
    },
    "language_info": {
      "codemirror_mode": {
        "name": "ipython",
        "version": 3
      },
      "file_extension": ".py",
      "mimetype": "text/x-python",
      "name": "python",
      "nbconvert_exporter": "python",
      "pygments_lexer": "ipython3",
      "version": "3.5.2"
    }
  },
  "nbformat": 4,
  "nbformat_minor": 0
}
