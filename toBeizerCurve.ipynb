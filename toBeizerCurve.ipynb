{
  "cells": [
    {
      "cell_type": "markdown",
      "metadata": {},
      "source": [
        "# Notes on using Mercator Projection\n",
        "\n",
        "---\n",
        "\n",
        "Sometimes, we may need to project a point with latitude $\\phi$ and longitude $\\lambda$ to a $xy$ plane, preserving the conformality ([details](https://en.wikipedia.org/wiki/Mercator_projection#Derivation_of_the_Mercator_projection)) which is equivalent to $\\frac{dy}{d\\phi} = R\\sec\\phi$, where $R$ is the Earth radius.\n",
        "\n",
        "Suppose we get a reference point $\\(\\lambda_0,\\phi_0)$ and we project $\\phi_0$ to $\\0$ in $xy$ plane, then by integrating both sides, we get",
        "\n",
        "\\begin{equation}\n",
        "y  = \\int_{\\phi_0}^{\\phi} R \\sec\\varphi d\\varphi = \\frac{R}{2}(\\ln\\frac{1+\\sin\\phi}{1-\\sin\\phi}-\\ln\\frac{1+\\sin\\phi_0}{1-\\sin\\phi_0}) = R\\ln\\frac{\\tan(\\frac{\\pi}{4}+\\frac{\\phi}{2})}{\\tan(\\frac{\\pi}{4}+\\frac{\\phi_0}{2})} \n",
        "\\end{equation}\n",
        "\n",
        "Now, we would only like to project a piece of the map: $(\\lambda_0,  \\lambda_1) \\times (\\phi_0, \\phi_1)$ to the $xy$ plane $m \\times n$ where $(0,n)$ corresponding to $(\\lambda_0,\\phi_0)$, then we observe:\n",
        "\n",
        "1. All angles are in radian and we write $\\Delta \\lambda = \\lambda_1-\\lambda_0$\n",        
        "\n",
        "2. By $m=R\\Delta \\lambda$, we get $R=\\frac{m}{\\Delta\\lambda}$\n",
        "\n",
        "3. $y$ will be changed to $n-y$ in some applications\n",
        "\n",
        "Hence,\n",
        "\n",
        "\\begin{equation}\n",
        "x = \\frac{m}{\\Delta\\lambda}(\\lambda-\\lambda_0) \\quad \\text{and} \\quad y = n - \\frac{m}{\\Delta\\lambda}\\ln\\frac{\\tan(\\frac{\\pi}{4}+\\frac{\\phi}{2})}{\\tan(\\frac{\\pi}{4}+\\frac{\\phi_0}{2})},\n",
        "\\end{equation}"
      ]
    }
  ],
  "metadata": {
    "kernelspec": {
      "display_name": "Python 3",
      "language": "python",
      "name": "python3"
    },
    "language_info": {
      "codemirror_mode": {
        "name": "ipython",
        "version": 3
      },
      "file_extension": ".py",
      "mimetype": "text/x-python",
      "name": "python",
      "nbconvert_exporter": "python",
      "pygments_lexer": "ipython3",
      "version": "3.5.2"
    }
  },
  "nbformat": 4,
  "nbformat_minor": 0
}
